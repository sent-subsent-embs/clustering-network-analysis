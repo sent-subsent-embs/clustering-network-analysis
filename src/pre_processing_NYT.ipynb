{
 "cells": [
  {
   "cell_type": "markdown",
   "metadata": {
    "id": "Mw6VI9oknJwD"
   },
   "source": [
    "# Pre-process NYT Data\n",
    "## The original data is in JSON format. Pre-process the train data to generate CSV file: NYT_train_df_nn.csv. The test data can be pre-processed in the same way. Both pre-processed data sets, NYT_train_df_nn.csv and NYT_test_df_nn.csv, were uploaded in the clustering-network-analysis/data/ folder.\n",
    "\n"
   ]
  },
  {
   "cell_type": "code",
   "execution_count": null,
   "metadata": {
    "id": "UMsZ2ITrI5dn"
   },
   "outputs": [],
   "source": [
    "import pandas as pd\n",
    "import numpy as np\n",
    "import scipy as sp\n",
    "import matplotlib.pyplot as plt\n",
    "%matplotlib inline"
   ]
  },
  {
   "cell_type": "code",
   "execution_count": null,
   "metadata": {
    "id": "XYOuEbYbnUIn"
   },
   "outputs": [],
   "source": [
    "import sys\n",
    "sys.path.append('/content/drive/My Drive/Colab Notebooks/RTER')"
   ]
  },
  {
   "cell_type": "markdown",
   "metadata": {
    "id": "_TeNkxRARHHW"
   },
   "source": [
    "# Pre-process train NYT JSON File"
   ]
  },
  {
   "cell_type": "code",
   "execution_count": null,
   "metadata": {
    "id": "ooFP04XuBcru"
   },
   "outputs": [],
   "source": [
    "import json\n",
    "# This function takes a path as parameter and loads the Json file into a list of json objects\n",
    "def loadJson(jfile):\n",
    "    \"\"\"\n",
    "    This function takes a path as the argument and loads the Json file into a list of json objects\n",
    "    \n",
    "    Arguments:\n",
    "    jfile -- a path pointing to a file containing Json objects in text format\n",
    "    \n",
    "    Return:\n",
    "    jsons -- a list of Json objects\n",
    "    \"\"\"\n",
    "    jsons = []\n",
    "    with open(jfile) as f:\n",
    "        for line in f:\n",
    "            jsons.append(json.loads(line))\n",
    "    \n",
    "    return jsons"
   ]
  },
  {
   "cell_type": "code",
   "execution_count": null,
   "metadata": {
    "id": "w6vZU2_HV7Ap"
   },
   "outputs": [],
   "source": [
    "def makeDFFromJson(jsons):\n",
    "    \"\"\"\n",
    "    This function takes a list of Json objects as the argument, it then flattens the Json objects, and creates\n",
    "    a data frame\n",
    "    \n",
    "    Arguments:\n",
    "    jsons --  a list of Json objects representing the annotations of sentences\n",
    "    \n",
    "    Return:\n",
    "    df --  a data frame representing the flattened annotations.\n",
    "    \n",
    "    \"\"\"\n",
    "    sentId_list= []\n",
    "    articleId_list = []\n",
    "    em1_list = []\n",
    "    em2_list = []\n",
    "    em1label_list = []\n",
    "    em2label_list = []\n",
    "    em1start_list = []\n",
    "    em2start_list = []\n",
    "    relation_list = []\n",
    "    sentText_list = []\n",
    "\n",
    "    for annot in jsons:\n",
    "        for relMention in annot['relationMentions']:\n",
    "            em1 = relMention['em1Text']\n",
    "            em2 = relMention['em2Text']\n",
    "            em1lbl = \"\"\n",
    "            em2lbl = \"\"\n",
    "            em1start = -1\n",
    "            em2start = -1\n",
    "            for entityMention in annot['entityMentions']:\n",
    "                if em1 == entityMention['text']:\n",
    "                    em1lbl = entityMention['label']\n",
    "                    em1start = entityMention['start']\n",
    "                if em2 == entityMention['text']:\n",
    "                    em2lbl = entityMention['label']\n",
    "                    em2start =entityMention['start']\n",
    "\n",
    "            sentId_list.append(annot['sentId'])\n",
    "            articleId_list.append(annot['articleId'])\n",
    "            em1_list.append(em1)\n",
    "            em2_list.append(em2)\n",
    "            em1label_list.append(em1lbl)\n",
    "            em2label_list.append(em2lbl)\n",
    "            em1start_list.append(em1start)\n",
    "            em2start_list.append(em2start)\n",
    "            relation_list.append(relMention['label'])\n",
    "            sentText_list.append(annot['sentText'])\n",
    "        \n",
    "    data = {\"sentId\" : sentId_list, \"articleId\" : articleId_list, \"em1\":em1_list, \"em1label\":em1label_list,\\\n",
    "                           \"em1start\":em1start_list, \"em2\":em2_list, \"em2label\":em2label_list, \"em2start\":em2start_list, \n",
    "                           \"relation\":relation_list, \"sentText\":sentText_list}\n",
    "    #index=np.arange(len(sentId_list))\n",
    "    df = pd.DataFrame(data=data)\n",
    "    \n",
    "    return df"
   ]
  },
  {
   "cell_type": "code",
   "execution_count": null,
   "metadata": {
    "id": "zxxZ-QhCWHMx"
   },
   "outputs": [],
   "source": [
    "train_json = loadJson('/content/drive/My Drive/Colab Notebooks/RTER/data/train.json')"
   ]
  },
  {
   "cell_type": "code",
   "execution_count": null,
   "metadata": {
    "id": "HOf1cXNkXU16"
   },
   "outputs": [],
   "source": [
    "train_df = makeDFFromJson(train_json)"
   ]
  },
  {
   "cell_type": "code",
   "execution_count": null,
   "metadata": {
    "colab": {
     "base_uri": "https://localhost:8080/",
     "height": 35
    },
    "executionInfo": {
     "elapsed": 1092,
     "status": "ok",
     "timestamp": 1596138631031,
     "user": {
      "displayName": "Yuan An",
      "photoUrl": "",
      "userId": "12279868416530647161"
     },
     "user_tz": 240
    },
    "id": "X5AdKsU5fIJX",
    "outputId": "75871947-5b68-42cf-c588-9ab767fce0c0"
   },
   "outputs": [],
   "source": [
    "train_df.shape"
   ]
  },
  {
   "cell_type": "code",
   "execution_count": null,
   "metadata": {
    "colab": {
     "base_uri": "https://localhost:8080/",
     "height": 35
    },
    "executionInfo": {
     "elapsed": 1146,
     "status": "ok",
     "timestamp": 1596138640450,
     "user": {
      "displayName": "Yuan An",
      "photoUrl": "",
      "userId": "12279868416530647161"
     },
     "user_tz": 240
    },
    "id": "RbZmR6LwfO02",
    "outputId": "f27e715a-a932-4072-88e7-c4b38e55f956"
   },
   "outputs": [],
   "source": [
    "# Remove None relation\n",
    "train_df_nn = train_df[train_df.relation != \"None\"]\n",
    "train_df_nn.shape"
   ]
  },
  {
   "cell_type": "code",
   "execution_count": null,
   "metadata": {
    "colab": {
     "base_uri": "https://localhost:8080/",
     "height": 35
    },
    "executionInfo": {
     "elapsed": 1354,
     "status": "ok",
     "timestamp": 1596138643606,
     "user": {
      "displayName": "Yuan An",
      "photoUrl": "",
      "userId": "12279868416530647161"
     },
     "user_tz": 240
    },
    "id": "7e9A9_xTqsoy",
    "outputId": "b90bbf54-3f77-412d-f643-a800b368c4b7"
   },
   "outputs": [],
   "source": [
    "train_df_nn.drop_duplicates()\n",
    "train_df_nn.shape"
   ]
  },
  {
   "cell_type": "code",
   "execution_count": null,
   "metadata": {
    "colab": {
     "base_uri": "https://localhost:8080/",
     "height": 798
    },
    "executionInfo": {
     "elapsed": 1297,
     "status": "ok",
     "timestamp": 1596138646911,
     "user": {
      "displayName": "Yuan An",
      "photoUrl": "",
      "userId": "12279868416530647161"
     },
     "user_tz": 240
    },
    "id": "tCLZRGUlrClk",
    "outputId": "9571aeb6-dc80-412a-9ec1-7afe5760f5df"
   },
   "outputs": [],
   "source": [
    "train_df_nn.groupby('relation').count()"
   ]
  },
  {
   "cell_type": "code",
   "execution_count": null,
   "metadata": {
    "colab": {
     "base_uri": "https://localhost:8080/",
     "height": 650
    },
    "executionInfo": {
     "elapsed": 1143,
     "status": "ok",
     "timestamp": 1596138659499,
     "user": {
      "displayName": "Yuan An",
      "photoUrl": "",
      "userId": "12279868416530647161"
     },
     "user_tz": 240
    },
    "id": "VOM66TsHsFh2",
    "outputId": "6a66c26f-633b-46fb-91c5-1d705c08d9c5"
   },
   "outputs": [],
   "source": [
    "# Reset the index to be in the range (0, 395)\n",
    "train_df_nn.index = range(len(train_df_nn.index))\n",
    "train_df_nn.tail()"
   ]
  },
  {
   "cell_type": "code",
   "execution_count": null,
   "metadata": {
    "colab": {
     "base_uri": "https://localhost:8080/",
     "height": 454
    },
    "executionInfo": {
     "elapsed": 1101,
     "status": "ok",
     "timestamp": 1596138667693,
     "user": {
      "displayName": "Yuan An",
      "photoUrl": "",
      "userId": "12279868416530647161"
     },
     "user_tz": 240
    },
    "id": "4hgkKLKKsqiU",
    "outputId": "b5792d02-8816-450e-9565-b6b6aa1a2d4d"
   },
   "outputs": [],
   "source": [
    "# Convert relation to id number\n",
    "unique_rel = train_df_nn[\"relation\"].unique()\n",
    "rel2idx = {rel:id+1 for id, rel in enumerate(unique_rel)}\n",
    "rel2idx"
   ]
  },
  {
   "cell_type": "code",
   "execution_count": null,
   "metadata": {
    "colab": {
     "base_uri": "https://localhost:8080/",
     "height": 126
    },
    "executionInfo": {
     "elapsed": 1253,
     "status": "ok",
     "timestamp": 1596138671785,
     "user": {
      "displayName": "Yuan An",
      "photoUrl": "",
      "userId": "12279868416530647161"
     },
     "user_tz": 240
    },
    "id": "Tvgn8q7WN6Y7",
    "outputId": "32d44fe0-7627-4b9d-9f20-882a195cb7da"
   },
   "outputs": [],
   "source": [
    "# Set up a column with relation ids\n",
    "train_df_nn[\"relIdx\"] = train_df_nn[\"relation\"].map(rel2idx)"
   ]
  },
  {
   "cell_type": "code",
   "execution_count": null,
   "metadata": {
    "colab": {
     "base_uri": "https://localhost:8080/",
     "height": 126
    },
    "executionInfo": {
     "elapsed": 2359,
     "status": "ok",
     "timestamp": 1596138676690,
     "user": {
      "displayName": "Yuan An",
      "photoUrl": "",
      "userId": "12279868416530647161"
     },
     "user_tz": 240
    },
    "id": "FP3JQ0kcO_fh",
    "outputId": "63493c63-afec-493d-cfd8-2fedadf3a55b"
   },
   "outputs": [],
   "source": [
    "# Clean up the sentText by replacing space before punctuations with '' and replacing '' with '\n",
    "import re\n",
    "#Clean up the sentText by replacing space before punctuations with '' and replacing \\'\\' with '\n",
    "def cleanSent(aSent):\n",
    "    sent = aSent.replace(\"\\'\\'\", '\"').replace(\"\\'\", \"'\").replace(\"\\r\", \"\").replace(\"\\n\", \"\").replace('\" ', '\"')\n",
    "    sent = re.sub(r'\\s+([?.,!\\':;])', r'\\1',sent)\n",
    "    return sent\n",
    "train_df_nn['sentTextClnd'] = train_df_nn['sentText'].apply(cleanSent)"
   ]
  },
  {
   "cell_type": "code",
   "execution_count": null,
   "metadata": {
    "colab": {
     "base_uri": "https://localhost:8080/",
     "height": 128
    },
    "executionInfo": {
     "elapsed": 4944,
     "status": "ok",
     "timestamp": 1596138685722,
     "user": {
      "displayName": "Yuan An",
      "photoUrl": "",
      "userId": "12279868416530647161"
     },
     "user_tz": 240
    },
    "id": "nNH0z4w6Pm0d",
    "outputId": "10fa95c9-d3ea-4034-af05-d86cf1fc5356"
   },
   "outputs": [],
   "source": [
    "!pip install unidecode"
   ]
  },
  {
   "cell_type": "code",
   "execution_count": null,
   "metadata": {
    "id": "lAHrHxKmPsOG"
   },
   "outputs": [],
   "source": [
    "from unidecode import unidecode"
   ]
  },
  {
   "cell_type": "code",
   "execution_count": null,
   "metadata": {
    "colab": {
     "base_uri": "https://localhost:8080/",
     "height": 126
    },
    "executionInfo": {
     "elapsed": 1112,
     "status": "ok",
     "timestamp": 1596138691051,
     "user": {
      "displayName": "Yuan An",
      "photoUrl": "",
      "userId": "12279868416530647161"
     },
     "user_tz": 240
    },
    "id": "kMJelkJgPwFQ",
    "outputId": "4b560ddc-2eff-4403-c02f-cd4942f59456"
   },
   "outputs": [],
   "source": [
    "train_df_nn['sentTextClndUni'] = train_df_nn.sentTextClnd.apply(unidecode)"
   ]
  },
  {
   "cell_type": "code",
   "execution_count": null,
   "metadata": {
    "colab": {
     "base_uri": "https://localhost:8080/",
     "height": 35
    },
    "executionInfo": {
     "elapsed": 1101,
     "status": "ok",
     "timestamp": 1596138693409,
     "user": {
      "displayName": "Yuan An",
      "photoUrl": "",
      "userId": "12279868416530647161"
     },
     "user_tz": 240
    },
    "id": "LsmPGqBFP3TA",
    "outputId": "9029f53a-0477-450a-b2b2-08001a0f3975"
   },
   "outputs": [],
   "source": [
    "train_df_nn.shape"
   ]
  },
  {
   "cell_type": "code",
   "execution_count": null,
   "metadata": {
    "colab": {
     "base_uri": "https://localhost:8080/",
     "height": 472
    },
    "executionInfo": {
     "elapsed": 1110,
     "status": "ok",
     "timestamp": 1596138716248,
     "user": {
      "displayName": "Yuan An",
      "photoUrl": "",
      "userId": "12279868416530647161"
     },
     "user_tz": 240
    },
    "id": "ukD42yvOR7a1",
    "outputId": "5f4c5548-0ec0-4d67-9c2f-986bd2cf74c6"
   },
   "outputs": [],
   "source": [
    "train_df_nn.relIdx.value_counts()"
   ]
  },
  {
   "cell_type": "code",
   "execution_count": null,
   "metadata": {
    "id": "y5W8iq_SRYCU"
   },
   "outputs": [],
   "source": [
    "#train_df_nn.to_csv(\"/content/drive/My Drive/Colab Notebooks/RTER/data/NYT_train_df_nn.csv\")"
   ]
  },
  {
   "cell_type": "code",
   "execution_count": null,
   "metadata": {
    "id": "1HslhsTCwpQG"
   },
   "outputs": [],
   "source": []
  }
 ],
 "metadata": {
  "colab": {
   "authorship_tag": "ABX9TyPZIulCn7cZLjArIpzmcOx2",
   "collapsed_sections": [],
   "machine_shape": "hm",
   "mount_file_id": "1G68IGqeGYUKBXeRwdfctDQ0kyVt7Ixhv",
   "name": "pre_processing_NYT.ipynb",
   "provenance": []
  },
  "kernelspec": {
   "display_name": "Python 3",
   "language": "python",
   "name": "python3"
  },
  "language_info": {
   "codemirror_mode": {
    "name": "ipython",
    "version": 3
   },
   "file_extension": ".py",
   "mimetype": "text/x-python",
   "name": "python",
   "nbconvert_exporter": "python",
   "pygments_lexer": "ipython3",
   "version": "3.7.7"
  }
 },
 "nbformat": 4,
 "nbformat_minor": 4
}
