{
 "cells": [
  {
   "cell_type": "markdown",
   "metadata": {
    "id": "Mw6VI9oknJwD"
   },
   "source": [
    "# Encode Sentences and Subsentences to Embeddings\n",
    "## Given two entity mentions, extract valid subsentence, then encode sentences and subsentences to embeddings by\n",
    "* GEM\n",
    "* sentBERT\n",
    "* Skipthrought\n",
    "* InferSentv1\n",
    "* InferSentv2\n",
    "* DCT\n",
    "* QuickThought\n",
    "* Glov\n",
    "* Laser\n",
    "\n",
    "### This notebook uses GEM to generate embeddings for sentences and subsentences. The implementations of all the embedding methods are available under **clustering-network-analysis/src/embedding/src/**\n",
    "\n",
    "### To generate the embeddings by other methods, simply replace the embedding method in this notebook.*"
   ]
  },
  {
   "cell_type": "markdown",
   "metadata": {
    "id": "RSXWK-E8y8L5"
   },
   "source": [
    "## The sentence and subsentences for embedding generation:\n",
    "* whole sentence\n",
    "* span between two mentions\n",
    "* span and before and after 1 word\n",
    "* span and before and after 2 words\n",
    "* span and before and after 3 words\n",
    "* span and before and after 4 words\n",
    "* span and before and after 5 words\n",
    "* span and before and after 6 words\n",
    "* span and before and after 7 words\n",
    "* span and before and after 8 words\n",
    "* span and before and after 9 words\n",
    "* span and before and after 10 words\n",
    "* span and before and after 15 words\n",
    "* span and before and after 20 words\n",
    "* if span has enough words:\n",
    " - contexts of mentions by 1 before and 1 after word\n",
    " - contexts of mentions by 2 before and 2 after words\n",
    " - contexts of mentions by 3 before and 3 after word\n",
    " - contexts of mentions by 4 before and 4 after words\n",
    " - contexts of mentions by 5 before and 5 after word\n",
    " - contexts of mentions by n before and n after words as long as the span has more than 2n words\n"
   ]
  },
  {
   "cell_type": "code",
   "execution_count": null,
   "metadata": {
    "id": "UMsZ2ITrI5dn"
   },
   "outputs": [],
   "source": [
    "import pandas as pd\n",
    "import numpy as np\n",
    "import scipy as sp\n",
    "import matplotlib.pyplot as plt\n",
    "%matplotlib inline"
   ]
  },
  {
   "cell_type": "code",
   "execution_count": null,
   "metadata": {
    "id": "XYOuEbYbnUIn"
   },
   "outputs": [],
   "source": [
    "import sys\n",
    "sys.path.append('/content/drive/My Drive/Colab Notebooks/RTER')"
   ]
  },
  {
   "cell_type": "code",
   "execution_count": null,
   "metadata": {
    "colab": {
     "base_uri": "https://localhost:8080/",
     "height": 71
    },
    "executionInfo": {
     "elapsed": 3065,
     "status": "ok",
     "timestamp": 1599276492040,
     "user": {
      "displayName": "Yuan An",
      "photoUrl": "",
      "userId": "12279868416530647161"
     },
     "user_tz": 240
    },
    "id": "-kS18dmeIn1_",
    "outputId": "1906a718-6696-44be-926e-eeadfa159d76"
   },
   "outputs": [],
   "source": [
    "import sentence_context as sc\n",
    "import clusterability as clus\n",
    "import clustering_validation as clus_val"
   ]
  },
  {
   "cell_type": "markdown",
   "metadata": {
    "id": "ejZLCHVrneI1"
   },
   "source": [
    "# Load NYT Train Data"
   ]
  },
  {
   "cell_type": "code",
   "execution_count": null,
   "metadata": {
    "id": "WlnKFyPJnjP_"
   },
   "outputs": [],
   "source": [
    "train_df_nn = pd.read_csv(\"/content/drive/My Drive/Colab Notebooks/RTER/data/NYT_train_df_nn.csv\", index_col=0)"
   ]
  },
  {
   "cell_type": "code",
   "execution_count": null,
   "metadata": {
    "id": "ZJbq6FZTP98B"
   },
   "outputs": [],
   "source": [
    "folder = \"/content/drive/My Drive/Colab Notebooks/RTER/data/embs_gem\"\n",
    "prefix = \"NYT_train_gem\""
   ]
  },
  {
   "cell_type": "markdown",
   "metadata": {
    "id": "fsj5naJjojP1"
   },
   "source": [
    "# GEM Encoding"
   ]
  },
  {
   "cell_type": "code",
   "execution_count": null,
   "metadata": {
    "id": "C0Z6OPq8Do9V"
   },
   "outputs": [],
   "source": [
    "import torch"
   ]
  },
  {
   "cell_type": "code",
   "execution_count": null,
   "metadata": {
    "id": "8RIJcebhokek"
   },
   "outputs": [],
   "source": [
    "import gem, embeddings, utils, build_gem_space"
   ]
  },
  {
   "cell_type": "code",
   "execution_count": null,
   "metadata": {
    "id": "JrpyU_ZTop1x"
   },
   "outputs": [],
   "source": [
    "sys.path.append('/content/drive/My Drive/Colab Notebooks/RTER/embedding/src/sent-embeddings/gem')"
   ]
  },
  {
   "cell_type": "code",
   "execution_count": null,
   "metadata": {
    "id": "NOvEtMAz-7gK"
   },
   "outputs": [],
   "source": [
    "glove_model_path = '/content/drive/My Drive/Colab Notebooks/RTER/embedding/src/sent-embeddings/glove/glove.6B.300d.txt'"
   ]
  },
  {
   "cell_type": "markdown",
   "metadata": {
    "id": "WycqAl71iVQ3"
   },
   "source": [
    "# Set up a Timer"
   ]
  },
  {
   "cell_type": "code",
   "execution_count": null,
   "metadata": {
    "id": "cbjn6KRVNeGQ"
   },
   "outputs": [],
   "source": [
    "# For timing\n",
    "from contextlib import contextmanager\n",
    "from timeit import default_timer\n",
    "import time \n",
    "\n",
    "@contextmanager\n",
    "def elapsed_timer():\n",
    "    start = default_timer()\n",
    "    elapser = lambda: default_timer() - start\n",
    "    yield lambda: elapser()\n",
    "    end = default_timer()\n",
    "    elapser = lambda: end-start"
   ]
  },
  {
   "cell_type": "markdown",
   "metadata": {
    "id": "xxCJOt6oNvBd"
   },
   "source": [
    "## GEM embedding on Sentences"
   ]
  },
  {
   "cell_type": "code",
   "execution_count": null,
   "metadata": {
    "id": "U4AmKdFoNtyj"
   },
   "outputs": [],
   "source": [
    "sents = train_df_nn.sentTextClndUni"
   ]
  },
  {
   "cell_type": "code",
   "execution_count": null,
   "metadata": {
    "colab": {
     "base_uri": "https://localhost:8080/",
     "height": 54
    },
    "executionInfo": {
     "elapsed": 2102891,
     "status": "ok",
     "timestamp": 1599059717001,
     "user": {
      "displayName": "Yuan An",
      "photoUrl": "",
      "userId": "12279868416530647161"
     },
     "user_tz": 240
    },
    "id": "4N-m2g5mNWAK",
    "outputId": "f8f1c60c-3c05-4750-d218-c2aaa5fc6f23"
   },
   "outputs": [],
   "source": [
    "with elapsed_timer() as elapsed:\n",
    "    sent_space = build_gem_space.transform_sentences(sents, glove_model_path)\n",
    "    duration = '%.1f' % elapsed()\n",
    "print(\" GEM Embedding {} sentences takes {} seconds\".format(sents.shape[0], duration))  "
   ]
  },
  {
   "cell_type": "code",
   "execution_count": null,
   "metadata": {
    "id": "HWJIk4uzY44I"
   },
   "outputs": [],
   "source": [
    "torch.save(sent_space, folder+\"/\"+prefix+\"_embs.pt\")"
   ]
  },
  {
   "cell_type": "code",
   "execution_count": null,
   "metadata": {
    "colab": {
     "base_uri": "https://localhost:8080/",
     "height": 35
    },
    "executionInfo": {
     "elapsed": 5574,
     "status": "ok",
     "timestamp": 1599061123968,
     "user": {
      "displayName": "Yuan An",
      "photoUrl": "",
      "userId": "12279868416530647161"
     },
     "user_tz": 240
    },
    "id": "3hyXEou8ZFtU",
    "outputId": "0c2fd131-cb48-4ec5-e36a-7103f2025227"
   },
   "outputs": [],
   "source": [
    "import torch\n",
    "sent_embs = torch.load(folder+\"/\"+prefix+\"_embs.pt\")\n",
    "sent_embs.shape"
   ]
  },
  {
   "cell_type": "markdown",
   "metadata": {
    "id": "HIbEjXRCorQ0"
   },
   "source": [
    "# Extract Span Subsentences and Embed the Span Subsentences"
   ]
  },
  {
   "cell_type": "code",
   "execution_count": null,
   "metadata": {
    "id": "5fQvu_wvq-7k"
   },
   "outputs": [],
   "source": [
    "# Extract spans between two entity mentions\n",
    "spans = []\n",
    "for i in range(train_df_nn.shape[0]):\n",
    "    sent = train_df_nn.iloc[i].sentTextClndUni\n",
    "    try:\n",
    "        em1 = train_df_nn.iloc[i].em1\n",
    "        em2 = train_df_nn.iloc[i].em2\n",
    "        span, _, _, _, _ = sc.spanEMs(sent, em1, em2)\n",
    "        spans.append(span)\n",
    "    except:\n",
    "        print(sent)"
   ]
  },
  {
   "cell_type": "code",
   "execution_count": null,
   "metadata": {
    "colab": {
     "base_uri": "https://localhost:8080/",
     "height": 34
    },
    "executionInfo": {
     "elapsed": 707669,
     "status": "ok",
     "timestamp": 1599232021932,
     "user": {
      "displayName": "Yuan An",
      "photoUrl": "",
      "userId": "12279868416530647161"
     },
     "user_tz": 240
    },
    "id": "pzBPWoIBq-7x",
    "outputId": "8a17cb7f-a088-4e37-ec10-866181c5def4"
   },
   "outputs": [],
   "source": [
    "with elapsed_timer() as elapsed:\n",
    "    spans_space = build_gem_space.transform_sentences(spans, glove_model_path)\n",
    "    duration = '%.1f' % elapsed()\n",
    "#print(\" GEM Embedding {} sentence spans takes {} seconds\".format(spans.shape[0], duration))  "
   ]
  },
  {
   "cell_type": "code",
   "execution_count": null,
   "metadata": {
    "id": "2iFqQNWWq-7z"
   },
   "outputs": [],
   "source": [
    "import torch\n",
    "#torch.save(spans_space, folder+\"/\"+prefix+\"_embs_span.pt\")"
   ]
  },
  {
   "cell_type": "code",
   "execution_count": null,
   "metadata": {
    "colab": {
     "base_uri": "https://localhost:8080/",
     "height": 34
    },
    "executionInfo": {
     "elapsed": 1311,
     "status": "ok",
     "timestamp": 1599234860222,
     "user": {
      "displayName": "Yuan An",
      "photoUrl": "",
      "userId": "12279868416530647161"
     },
     "user_tz": 240
    },
    "id": "Q_dC-wggqpjS",
    "outputId": "431277ff-f6b0-4a76-dd8b-b074896d2927"
   },
   "outputs": [],
   "source": [
    "span_embs = torch.load(folder+\"/\"+prefix+\"_embs_span.pt\")\n",
    "span_embs.shape"
   ]
  },
  {
   "cell_type": "code",
   "execution_count": null,
   "metadata": {
    "id": "cTecyoqNnxy4"
   },
   "outputs": [],
   "source": [
    "import pickle\n",
    "file_dest = folder+\"/\"+prefix+\"_kls_embs_span.pk\"\n",
    "with open(file_dest, 'wb') as ff:\n",
    "    pickle.dump(kls_embs_span, ff)"
   ]
  },
  {
   "cell_type": "markdown",
   "metadata": {
    "id": "Tbwwf_Viq-71"
   },
   "source": [
    "### Span and Before and After n Words"
   ]
  },
  {
   "cell_type": "code",
   "execution_count": null,
   "metadata": {
    "colab": {
     "base_uri": "https://localhost:8080/",
     "height": 833
    },
    "executionInfo": {
     "elapsed": 20195053,
     "status": "ok",
     "timestamp": 1599257289455,
     "user": {
      "displayName": "Yuan An",
      "photoUrl": "",
      "userId": "12279868416530647161"
     },
     "user_tz": 240
    },
    "id": "aDuQAcfXq-71",
    "outputId": "446b279f-8036-4ba0-b0bd-15e274bb3df8"
   },
   "outputs": [],
   "source": [
    "# Extract spans between two entity mentions and extra n words before and after\n",
    "n_words = [1,2,3,4,5,6,7,8,9,10,15,20]\n",
    "\n",
    "for n in n_words:\n",
    "\n",
    "    spans_ba = []\n",
    "\n",
    "    with elapsed_timer() as elapsed_n:\n",
    "\n",
    "        for i in range(train_df_nn.shape[0]):\n",
    "        # for i in range(14):\n",
    "            try:\n",
    "                sent = train_df_nn.iloc[i].sentTextClndUni\n",
    "                em1 = train_df_nn.iloc[i].em1\n",
    "                em2 = train_df_nn.iloc[i].em2\n",
    "                span_ba = sc.baN(sent, em1, em2, n)\n",
    "                spans_ba.append(span_ba.strip())\n",
    "            except:\n",
    "                print(\"Something was wrong at {}th instance\".format(i))\n",
    "                continue\n",
    "        \n",
    "        duration = '%.1f' % elapsed_n()\n",
    "    print(\"Extracting the span and before and after {} words takes {} seconds\".format(n, duration))   \n",
    "\n",
    "    with elapsed_timer() as elapsed_encoding:\n",
    "        embs_span_ba = build_gem_space.transform_sentences(spans_ba, glove_model_path)\n",
    "        duration = '%.1f' % elapsed_encoding()\n",
    "    print(\"Encoding the span and before and after {} words takes {} seconds\".format(n, duration))\n",
    "\n",
    "    print(\"The length of the list of span_ba embeddings is: {}\".format(len(embs_span_ba)))\n",
    "    #with open(folder + \"/\" + prefix + \"_embs_span_ba{}.pk\".format(n), 'wb') as f:\n",
    "    #    pickle.dump(embs_span_ba, f)\n",
    "\n",
    "    torch.save(embs_span_ba, folder+\"/\"+prefix+\"_embs_span_ba{}.pt\".format(n))"
   ]
  },
  {
   "cell_type": "code",
   "execution_count": null,
   "metadata": {
    "id": "DpmEXMLm7c7x"
   },
   "outputs": [],
   "source": []
  },
  {
   "cell_type": "markdown",
   "metadata": {
    "id": "W2gxfPmkdIQZ"
   },
   "source": [
    "# Extract Surrounding Subsentences and Embed the Subsentences"
   ]
  },
  {
   "cell_type": "code",
   "execution_count": null,
   "metadata": {
    "colab": {
     "base_uri": "https://localhost:8080/",
     "height": 833
    },
    "executionInfo": {
     "elapsed": 4713863,
     "status": "ok",
     "timestamp": 1599282296300,
     "user": {
      "displayName": "Yuan An",
      "photoUrl": "",
      "userId": "12279868416530647161"
     },
     "user_tz": 240
    },
    "id": "8jCuEA_Rq-73",
    "outputId": "50195320-8304-43bf-f9ea-2a75fc4f2a8e"
   },
   "outputs": [],
   "source": [
    "# Extract context of mentions by surrounding 2n words\n",
    "n_words = [1,2,3,4,5,6,7,8,9,10,15,20]\n",
    "\n",
    "for n in n_words:\n",
    "    surroundings = []\n",
    "    labels = []\n",
    "    with elapsed_timer() as elapsed_n:\n",
    "        for i in range(train_df_nn.shape[0]):\n",
    "        \n",
    "            sent = train_df_nn.iloc[i].sentTextClndUni\n",
    "            em1 = train_df_nn.iloc[i].em1\n",
    "            em2 = train_df_nn.iloc[i].em2\n",
    "            surr = sc.surrounding2N(sent, em1, em2, n)\n",
    "            if surr != None:\n",
    "                surroundings.append(surr.strip())\n",
    "                labels.append(train_df_nn.iloc[i].relIdx)\n",
    "\n",
    "        if len(surroundings) == 0:\n",
    "            print(\"No more context extraction at {} words\".format(n))\n",
    "            break\n",
    "        duration = '%.1f' % elapsed_n()\n",
    "    print(\"Extraction the context surrounding {} words takes {} seconds\".format(n, duration))\n",
    "\n",
    "    with elapsed_timer() as elapsed_encoding:\n",
    "        embs_surroundings = build_gem_space.transform_sentences(surroundings, glove_model_path)\n",
    "        duration = '%.1f' % elapsed_encoding()\n",
    "    print(\"Encoding the context surrounding {} words takes {} seconds\".format(n, duration)) \n",
    "\n",
    "    print(\"The length of the list of surrounding embeddings is: {}\".format(len(embs_surroundings)))\n",
    "\n",
    "    #embs_surroundings_labels = zip(embs_surroundings, labels)\n",
    "\n",
    "    #with open(folder + \"/\" + prefix + \"_embs_surroundings_labels{}.pk\".format(n), 'wb') as f:\n",
    "    #    pickle.dump(embs_surroundings_labels, f)\n",
    "\n",
    "    torch.save(embs_surroundings, folder+\"/\"+prefix+\"_embs_surroundings{}.pt\".format(n))\n",
    "\n",
    "    with open(folder + \"/\" + prefix + \"_embs_surroundings_labels{}.pk\".format(n), 'wb') as f:\n",
    "        pickle.dump(labels, f)"
   ]
  },
  {
   "cell_type": "code",
   "execution_count": null,
   "metadata": {
    "id": "Vgu7v9l6q-7-"
   },
   "outputs": [],
   "source": [
    "import pickle\n",
    "with open(folder + \"/\" + prefix + \"_embs_surroundings_labels9.pk\", 'rb') as f:\n",
    "    embs_surroundings_labels9 = pickle.load(f)"
   ]
  },
  {
   "cell_type": "code",
   "execution_count": null,
   "metadata": {
    "id": "U6uLQu1bq-8A"
   },
   "outputs": [],
   "source": [
    "embs, labels = zip(*embs_surroundings_labels9)"
   ]
  },
  {
   "cell_type": "code",
   "execution_count": null,
   "metadata": {
    "colab": {
     "base_uri": "https://localhost:8080/",
     "height": 35
    },
    "executionInfo": {
     "elapsed": 393,
     "status": "ok",
     "timestamp": 1596206210120,
     "user": {
      "displayName": "Yuan An",
      "photoUrl": "",
      "userId": "12279868416530647161"
     },
     "user_tz": 240
    },
    "id": "--2F1cM_q-8C",
    "outputId": "71b48552-6da3-4ae4-a372-162899fb18c4"
   },
   "outputs": [],
   "source": [
    "len(embs)"
   ]
  }
 ],
 "metadata": {
  "colab": {
   "authorship_tag": "ABX9TyMB/qURjj4F5Scxg7z9OUnT",
   "collapsed_sections": [],
   "machine_shape": "hm",
   "mount_file_id": "17nDovcpxxIvE11LEjFenOz2ARYO4Qn5M",
   "name": "encode_sentences_subsentences_to_embeddings.ipynb",
   "provenance": [
    {
     "file_id": "1G68IGqeGYUKBXeRwdfctDQ0kyVt7Ixhv",
     "timestamp": 1598989449441
    }
   ]
  },
  "kernelspec": {
   "display_name": "Python 3",
   "language": "python",
   "name": "python3"
  },
  "language_info": {
   "codemirror_mode": {
    "name": "ipython",
    "version": 3
   },
   "file_extension": ".py",
   "mimetype": "text/x-python",
   "name": "python",
   "nbconvert_exporter": "python",
   "pygments_lexer": "ipython3",
   "version": "3.7.7"
  }
 },
 "nbformat": 4,
 "nbformat_minor": 4
}
